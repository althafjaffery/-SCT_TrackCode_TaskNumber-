{
  "nbformat": 4,
  "nbformat_minor": 0,
  "metadata": {
    "colab": {
      "provenance": [],
      "authorship_tag": "ABX9TyMqbIXnGitsV5nwY0nD7uK6",
      "include_colab_link": true
    },
    "kernelspec": {
      "name": "python3",
      "display_name": "Python 3"
    },
    "language_info": {
      "name": "python"
    }
  },
  "cells": [
    {
      "cell_type": "markdown",
      "metadata": {
        "id": "view-in-github",
        "colab_type": "text"
      },
      "source": [
        "<a href=\"https://colab.research.google.com/github/althafjaffery/-SCT_TrackCode_TaskNumber-/blob/main/Download_ipynb_.ipynb\" target=\"_parent\"><img src=\"https://colab.research.google.com/assets/colab-badge.svg\" alt=\"Open In Colab\"/></a>"
      ]
    },
    {
      "cell_type": "code",
      "execution_count": null,
      "metadata": {
        "id": "-zjkFPEDCNOw"
      },
      "outputs": [],
      "source": [
        "# Sentiment Analysis in Google Colab\n",
        "# Author: Your Name\n",
        "\n",
        "!pip install transformers\n",
        "\n",
        "from transformers import pipeline\n",
        "\n",
        "# Load pre-trained model\n",
        "sentiment_pipeline = pipeline(\"sentiment-analysis\")\n",
        "\n",
        "# Example texts\n",
        "texts = [\n",
        "    \"I love learning AI!\",\n",
        "    \"This movie was terrible.\",\n",
        "    \"The service was okay, nothing special.\"\n",
        "]\n",
        "\n",
        "# Run sentiment analysis\n",
        "for text in texts:\n",
        "    result = sentiment_pipeline(text)\n",
        "    print(f\"Text: {text}\")\n",
        "    print(f\"Sentiment: {result[0]['label']}, Score: {result[0]['score']:.2f}\")\n",
        "    print(\"-\" * 50)\n"
      ]
    }
  ]
}